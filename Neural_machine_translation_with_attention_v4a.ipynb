{
  "nbformat": 4,
  "nbformat_minor": 0,
  "metadata": {
    "coursera": {
      "course_slug": "nlp-sequence-models",
      "graded_item_id": "n16CQ",
      "launcher_item_id": "npjGi"
    },
    "kernelspec": {
      "display_name": "Python 3",
      "language": "python",
      "name": "python3"
    },
    "language_info": {
      "codemirror_mode": {
        "name": "ipython",
        "version": 3
      },
      "file_extension": ".py",
      "mimetype": "text/x-python",
      "name": "python",
      "nbconvert_exporter": "python",
      "pygments_lexer": "ipython3",
      "version": "3.6.0"
    },
    "colab": {
      "name": " Neural_machine_translation_with_attention_v4a.ipynb",
      "provenance": [],
      "include_colab_link": true
    }
  },
  "cells": [
    {
      "cell_type": "markdown",
      "metadata": {
        "id": "view-in-github",
        "colab_type": "text"
      },
      "source": [
        "<a href=\"https://colab.research.google.com/github/Shubhangidharmik/Sequence-Models/blob/main/Neural_machine_translation_with_attention_v4a.ipynb\" target=\"_parent\"><img src=\"https://colab.research.google.com/assets/colab-badge.svg\" alt=\"Open In Colab\"/></a>"
      ]
    },
    {
      "cell_type": "markdown",
      "metadata": {
        "id": "QVq_CXQCn3p8"
      },
      "source": [
        "# Neural Machine Translation\n",
        "\n",
        "Welcome to your first programming assignment for this week! \n",
        "\n",
        "* You will build a Neural Machine Translation (NMT) model to translate human-readable dates (\"25th of June, 2009\") into machine-readable dates (\"2009-06-25\"). \n",
        "* You will do this using an attention model, one of the most sophisticated sequence-to-sequence models. \n",
        "\n",
        "This notebook was produced together with NVIDIA's Deep Learning Institute. "
      ]
    },
    {
      "cell_type": "markdown",
      "metadata": {
        "id": "vk-Z94AFn3qD"
      },
      "source": [
        "## <font color='darkblue'>Updates</font>\n",
        "\n",
        "#### If you were working on the notebook before this update...\n",
        "* The current notebook is version \"4a\".\n",
        "* You can find your original work saved in the notebook with the previous version name (\"v4\") \n",
        "* To view the file directory, go to the menu \"File->Open\", and this will open a new tab that shows the file directory.\n",
        "\n",
        "#### List of updates\n",
        "* Clarified names of variables to be consistent with the lectures and consistent within the assignment\n",
        "    - pre-attention bi-directional LSTM: the first LSTM that processes the input data.\n",
        "        - 'a': the hidden state of the pre-attention LSTM.\n",
        "    - post-attention LSTM: the LSTM that outputs the translation.\n",
        "        - 's': the hidden state of the post-attention LSTM.\n",
        "    - energies \"e\".  The output of the dense function that takes \"a\" and \"s\" as inputs.\n",
        "    - All references to \"output activation\" are updated to \"hidden state\".\n",
        "    - \"post-activation\" sequence model is updated to \"post-attention sequence model\".\n",
        "    - 3.1: \"Getting the activations from the Network\" renamed to \"Getting the attention weights from the network.\"\n",
        "    - Appropriate mentions of \"activation\" replaced \"attention weights.\"\n",
        "    - Sequence of alphas corrected to be a sequence of \"a\" hidden states.\n",
        "* one_step_attention:\n",
        "    - Provides sample code for each Keras layer, to show how to call the functions.\n",
        "    - Reminds students to provide the list of hidden states in a specific order, in order to pause the autograder.\n",
        "* model\n",
        "    - Provides sample code for each Keras layer, to show how to call the functions.\n",
        "    - Added a troubleshooting note about handling errors.\n",
        "    - Fixed typo: outputs should be of length 10 and not 11.\n",
        "* define optimizer and compile model\n",
        "    - Provides sample code for each Keras layer, to show how to call the functions.\n",
        "\n",
        "* Spelling, grammar and wording corrections."
      ]
    },
    {
      "cell_type": "markdown",
      "metadata": {
        "id": "W78nVaqHn3qJ"
      },
      "source": [
        "Let's load all the packages you will need for this assignment."
      ]
    },
    {
      "cell_type": "code",
      "metadata": {
        "collapsed": true,
        "id": "znGhd6-3n3qM"
      },
      "source": [
        "from keras.layers import Bidirectional, Concatenate, Permute, Dot, Input, LSTM, Multiply\n",
        "from keras.layers import RepeatVector, Dense, Activation, Lambda\n",
        "#from keras.optimizers import Adam\n",
        "#from keras.utils import to_categorical\n",
        "from keras.models import load_model, Model\n",
        "import keras.backend as K\n",
        "import numpy as np\n",
        "\n",
        "#from faker import Faker\n",
        "import random\n",
        "from tqdm import tqdm\n",
        "from babel.dates import format_date\n",
        "#from nmt_utils import *\n",
        "import matplotlib.pyplot as plt\n",
        "%matplotlib inline"
      ],
      "execution_count": 5,
      "outputs": []
    },
    {
      "cell_type": "code",
      "metadata": {
        "id": "YPBl9wYEn8UN"
      },
      "source": [
        "import numpy as np\n",
        "from faker import Faker\n",
        "import random\n",
        "from tqdm import tqdm\n",
        "from babel.dates import format_date\n",
        "#from keras.utils import to_categorical\n",
        "import keras.backend as K\n",
        "import matplotlib.pyplot as plt\n",
        "\n",
        "fake = Faker()\n",
        "fake.seed(12345)\n",
        "random.seed(12345)\n",
        "\n",
        "# Define format of the data we would like to generate\n",
        "FORMATS = ['short',\n",
        "           'medium',\n",
        "           'long',\n",
        "           'full',\n",
        "           'full',\n",
        "           'full',\n",
        "           'full',\n",
        "           'full',\n",
        "           'full',\n",
        "           'full',\n",
        "           'full',\n",
        "           'full',\n",
        "           'full',\n",
        "           'd MMM YYY', \n",
        "           'd MMMM YYY',\n",
        "           'dd MMM YYY',\n",
        "           'd MMM, YYY',\n",
        "           'd MMMM, YYY',\n",
        "           'dd, MMM YYY',\n",
        "           'd MM YY',\n",
        "           'd MMMM YYY',\n",
        "           'MMMM d YYY',\n",
        "           'MMMM d, YYY',\n",
        "           'dd.MM.YY']\n",
        "\n",
        "# change this if you want it to work with another language\n",
        "LOCALES = ['en_US']\n",
        "\n",
        "def load_date():\n",
        "    \"\"\"\n",
        "        Loads some fake dates \n",
        "        :returns: tuple containing human readable string, machine readable string, and date object\n",
        "    \"\"\"\n",
        "    dt = fake.date_object()\n",
        "\n",
        "    try:\n",
        "        human_readable = format_date(dt, format=random.choice(FORMATS),  locale='en_US') # locale=random.choice(LOCALES))\n",
        "        human_readable = human_readable.lower()\n",
        "        human_readable = human_readable.replace(',','')\n",
        "        machine_readable = dt.isoformat()\n",
        "        \n",
        "    except AttributeError as e:\n",
        "        return None, None, None\n",
        "\n",
        "    return human_readable, machine_readable, dt\n",
        "\n",
        "def load_dataset(m):\n",
        "    \"\"\"\n",
        "        Loads a dataset with m examples and vocabularies\n",
        "        :m: the number of examples to generate\n",
        "    \"\"\"\n",
        "    \n",
        "    human_vocab = set()\n",
        "    machine_vocab = set()\n",
        "    dataset = []\n",
        "    Tx = 30\n",
        "    \n",
        "\n",
        "    for i in tqdm(range(m)):\n",
        "        h, m, _ = load_date()\n",
        "        if h is not None:\n",
        "            dataset.append((h, m))\n",
        "            human_vocab.update(tuple(h))\n",
        "            machine_vocab.update(tuple(m))\n",
        "    \n",
        "    human = dict(zip(sorted(human_vocab) + ['<unk>', '<pad>'], \n",
        "                     list(range(len(human_vocab) + 2))))\n",
        "    inv_machine = dict(enumerate(sorted(machine_vocab)))\n",
        "    machine = {v:k for k,v in inv_machine.items()}\n",
        " \n",
        "    return dataset, human, machine, inv_machine\n",
        "\n",
        "def preprocess_data(dataset, human_vocab, machine_vocab, Tx, Ty):\n",
        "    \n",
        "    X, Y = zip(*dataset)\n",
        "    \n",
        "    X = np.array([string_to_int(i, Tx, human_vocab) for i in X])\n",
        "    Y = [string_to_int(t, Ty, machine_vocab) for t in Y]\n",
        "    \n",
        "    Xoh = np.array(list(map(lambda x: to_categorical(x, num_classes=len(human_vocab)), X)))\n",
        "    Yoh = np.array(list(map(lambda x: to_categorical(x, num_classes=len(machine_vocab)), Y)))\n",
        "\n",
        "    return X, np.array(Y), Xoh, Yoh\n",
        "\n",
        "def string_to_int(string, length, vocab):\n",
        "    \"\"\"\n",
        "    Converts all strings in the vocabulary into a list of integers representing the positions of the\n",
        "    input string's characters in the \"vocab\"\n",
        "    \n",
        "    Arguments:\n",
        "    string -- input string, e.g. 'Wed 10 Jul 2007'\n",
        "    length -- the number of time steps you'd like, determines if the output will be padded or cut\n",
        "    vocab -- vocabulary, dictionary used to index every character of your \"string\"\n",
        "    \n",
        "    Returns:\n",
        "    rep -- list of integers (or '<unk>') (size = length) representing the position of the string's character in the vocabulary\n",
        "    \"\"\"\n",
        "    \n",
        "    #make lower to standardize\n",
        "    string = string.lower()\n",
        "    string = string.replace(',','')\n",
        "    \n",
        "    if len(string) > length:\n",
        "        string = string[:length]\n",
        "        \n",
        "    rep = list(map(lambda x: vocab.get(x, '<unk>'), string))\n",
        "    \n",
        "    if len(string) < length:\n",
        "        rep += [vocab['<pad>']] * (length - len(string))\n",
        "    \n",
        "    #print (rep)\n",
        "    return rep\n",
        "\n",
        "\n",
        "def int_to_string(ints, inv_vocab):\n",
        "    \"\"\"\n",
        "    Output a machine readable list of characters based on a list of indexes in the machine's vocabulary\n",
        "    \n",
        "    Arguments:\n",
        "    ints -- list of integers representing indexes in the machine's vocabulary\n",
        "    inv_vocab -- dictionary mapping machine readable indexes to machine readable characters \n",
        "    \n",
        "    Returns:\n",
        "    l -- list of characters corresponding to the indexes of ints thanks to the inv_vocab mapping\n",
        "    \"\"\"\n",
        "    \n",
        "    l = [inv_vocab[i] for i in ints]\n",
        "    return l\n",
        "\n",
        "\n",
        "EXAMPLES = ['3 May 1979', '5 Apr 09', '20th February 2016', 'Wed 10 Jul 2007']\n",
        "\n",
        "def run_example(model, input_vocabulary, inv_output_vocabulary, text):\n",
        "    encoded = string_to_int(text, TIME_STEPS, input_vocabulary)\n",
        "    prediction = model.predict(np.array([encoded]))\n",
        "    prediction = np.argmax(prediction[0], axis=-1)\n",
        "    return int_to_string(prediction, inv_output_vocabulary)\n",
        "\n",
        "def run_examples(model, input_vocabulary, inv_output_vocabulary, examples=EXAMPLES):\n",
        "    predicted = []\n",
        "    for example in examples:\n",
        "        predicted.append(''.join(run_example(model, input_vocabulary, inv_output_vocabulary, example)))\n",
        "        print('input:', example)\n",
        "        print('output:', predicted[-1])\n",
        "    return predicted\n",
        "\n",
        "\n",
        "def softmax(x, axis=1):\n",
        "    \"\"\"Softmax activation function.\n",
        "    # Arguments\n",
        "        x : Tensor.\n",
        "        axis: Integer, axis along which the softmax normalization is applied.\n",
        "    # Returns\n",
        "        Tensor, output of softmax transformation.\n",
        "    # Raises\n",
        "        ValueError: In case `dim(x) == 1`.\n",
        "    \"\"\"\n",
        "    ndim = K.ndim(x)\n",
        "    if ndim == 2:\n",
        "        return K.softmax(x)\n",
        "    elif ndim > 2:\n",
        "        e = K.exp(x - K.max(x, axis=axis, keepdims=True))\n",
        "        s = K.sum(e, axis=axis, keepdims=True)\n",
        "        return e / s\n",
        "    else:\n",
        "        raise ValueError('Cannot apply softmax to a tensor that is 1D')\n",
        "        \n",
        "\n",
        "def plot_attention_map(model, input_vocabulary, inv_output_vocabulary, text, n_s = 128, num = 6, Tx = 30, Ty = 10):\n",
        "    \"\"\"\n",
        "    Plot the attention map.\n",
        "  \n",
        "    \"\"\"\n",
        "    attention_map = np.zeros((10, 30))\n",
        "    Ty, Tx = attention_map.shape\n",
        "    \n",
        "    s0 = np.zeros((1, n_s))\n",
        "    c0 = np.zeros((1, n_s))\n",
        "    layer = model.layers[num]\n",
        "\n",
        "    encoded = np.array(string_to_int(text, Tx, input_vocabulary)).reshape((1, 30))\n",
        "    encoded = np.array(list(map(lambda x: to_categorical(x, num_classes=len(input_vocabulary)), encoded)))\n",
        "\n",
        "    f = K.function(model.inputs, [layer.get_output_at(t) for t in range(Ty)])\n",
        "    r = f([encoded, s0, c0])\n",
        "    \n",
        "    for t in range(Ty):\n",
        "        for t_prime in range(Tx):\n",
        "            attention_map[t][t_prime] = r[t][0,t_prime,0]\n",
        "\n",
        "    # Normalize attention map\n",
        "#     row_max = attention_map.max(axis=1)\n",
        "#     attention_map = attention_map / row_max[:, None]\n",
        "\n",
        "    prediction = model.predict([encoded, s0, c0])\n",
        "    \n",
        "    predicted_text = []\n",
        "    for i in range(len(prediction)):\n",
        "        predicted_text.append(int(np.argmax(prediction[i], axis=1)))\n",
        "        \n",
        "    predicted_text = list(predicted_text)\n",
        "    predicted_text = int_to_string(predicted_text, inv_output_vocabulary)\n",
        "    text_ = list(text)\n",
        "    \n",
        "    # get the lengths of the string\n",
        "    input_length = len(text)\n",
        "    output_length = Ty\n",
        "    \n",
        "    # Plot the attention_map\n",
        "    plt.clf()\n",
        "    f = plt.figure(figsize=(8, 8.5))\n",
        "    ax = f.add_subplot(1, 1, 1)\n",
        "\n",
        "    # add image\n",
        "    i = ax.imshow(attention_map, interpolation='nearest', cmap='Blues')\n",
        "\n",
        "    # add colorbar\n",
        "    cbaxes = f.add_axes([0.2, 0, 0.6, 0.03])\n",
        "    cbar = f.colorbar(i, cax=cbaxes, orientation='horizontal')\n",
        "    cbar.ax.set_xlabel('Alpha value (Probability output of the \"softmax\")', labelpad=2)\n",
        "\n",
        "    # add labels\n",
        "    ax.set_yticks(range(output_length))\n",
        "    ax.set_yticklabels(predicted_text[:output_length])\n",
        "\n",
        "    ax.set_xticks(range(input_length))\n",
        "    ax.set_xticklabels(text_[:input_length], rotation=45)\n",
        "\n",
        "    ax.set_xlabel('Input Sequence')\n",
        "    ax.set_ylabel('Output Sequence')\n",
        "\n",
        "    # add grid and legend\n",
        "    ax.grid()\n",
        "\n",
        "    #f.show()\n",
        "    \n",
        "    return attention_map"
      ],
      "execution_count": null,
      "outputs": []
    },
    {
      "cell_type": "markdown",
      "metadata": {
        "id": "hM0M8-SOn3qQ"
      },
      "source": [
        "## 1 - Translating human readable dates into machine readable dates\n",
        "\n",
        "* The model you will build here could be used to translate from one language to another, such as translating from English to Hindi. \n",
        "* However, language translation requires massive datasets and usually takes days of training on GPUs. \n",
        "* To give you a place to experiment with these models without using massive datasets, we will perform a simpler \"date translation\" task. \n",
        "* The network will input a date written in a variety of possible formats (*e.g. \"the 29th of August 1958\", \"03/30/1968\", \"24 JUNE 1987\"*) \n",
        "* The network will translate them into standardized, machine readable dates (*e.g. \"1958-08-29\", \"1968-03-30\", \"1987-06-24\"*). \n",
        "* We will have the network learn to output dates in the common machine-readable format YYYY-MM-DD. \n",
        "\n",
        "<!-- \n",
        "Take a look at [nmt_utils.py](./nmt_utils.py) to see all the formatting. Count and figure out how the formats work, you will need this knowledge later. !--> "
      ]
    },
    {
      "cell_type": "markdown",
      "metadata": {
        "id": "UTNRIfN7n3qR"
      },
      "source": [
        "### 1.1 - Dataset\n",
        "\n",
        "We will train the model on a dataset of 10,000 human readable dates and their equivalent, standardized, machine readable dates. Let's run the following cells to load the dataset and print some examples. "
      ]
    },
    {
      "cell_type": "code",
      "metadata": {
        "collapsed": true,
        "id": "dO3vsAxGn3qT"
      },
      "source": [
        "m = 10000\n",
        "dataset, human_vocab, machine_vocab, inv_machine_vocab = load_dataset(m)"
      ],
      "execution_count": null,
      "outputs": []
    },
    {
      "cell_type": "code",
      "metadata": {
        "collapsed": true,
        "id": "u0cUpYVVn3qV"
      },
      "source": [
        "dataset[:10]"
      ],
      "execution_count": null,
      "outputs": []
    },
    {
      "cell_type": "markdown",
      "metadata": {
        "id": "wZVBfo5Hn3qa"
      },
      "source": [
        "You've loaded:\n",
        "- `dataset`: a list of tuples of (human readable date, machine readable date).\n",
        "- `human_vocab`: a python dictionary mapping all characters used in the human readable dates to an integer-valued index.\n",
        "- `machine_vocab`: a python dictionary mapping all characters used in machine readable dates to an integer-valued index. \n",
        "    - **Note**: These indices are not necessarily consistent with `human_vocab`. \n",
        "- `inv_machine_vocab`: the inverse dictionary of `machine_vocab`, mapping from indices back to characters. \n",
        "\n",
        "Let's preprocess the data and map the raw text data into the index values. \n",
        "- We will set Tx=30 \n",
        "    - We assume Tx is the maximum length of the human readable date.\n",
        "    - If we get a longer input, we would have to truncate it.\n",
        "- We will set Ty=10\n",
        "    - \"YYYY-MM-DD\" is 10 characters long."
      ]
    },
    {
      "cell_type": "code",
      "metadata": {
        "collapsed": true,
        "id": "8F0JPArkn3qe"
      },
      "source": [
        "Tx = 30\n",
        "Ty = 10\n",
        "X, Y, Xoh, Yoh = preprocess_data(dataset, human_vocab, machine_vocab, Tx, Ty)\n",
        "\n",
        "print(\"X.shape:\", X.shape)\n",
        "print(\"Y.shape:\", Y.shape)\n",
        "print(\"Xoh.shape:\", Xoh.shape)\n",
        "print(\"Yoh.shape:\", Yoh.shape)"
      ],
      "execution_count": null,
      "outputs": []
    },
    {
      "cell_type": "markdown",
      "metadata": {
        "id": "g4pWkJFen3qf"
      },
      "source": [
        "You now have:\n",
        "- `X`: a processed version of the human readable dates in the training set.\n",
        "    - Each character in X is replaced by an index (integer) mapped to the character using `human_vocab`. \n",
        "    - Each date is padded to ensure a length of $T_x$ using a special character (< pad >). \n",
        "    - `X.shape = (m, Tx)` where m is the number of training examples in a batch.\n",
        "- `Y`: a processed version of the machine readable dates in the training set.\n",
        "    - Each character is replaced by the index (integer) it is mapped to in `machine_vocab`. \n",
        "    - `Y.shape = (m, Ty)`. \n",
        "- `Xoh`: one-hot version of `X`\n",
        "    - Each index in `X` is converted to the one-hot representation (if the index is 2, the one-hot version has the index position 2 set to 1, and the remaining positions are 0.\n",
        "    - `Xoh.shape = (m, Tx, len(human_vocab))`\n",
        "- `Yoh`: one-hot version of `Y`\n",
        "    - Each index in `Y` is converted to the one-hot representation. \n",
        "    - `Yoh.shape = (m, Tx, len(machine_vocab))`. \n",
        "    - `len(machine_vocab) = 11` since there are 10 numeric digits (0 to 9) and the `-` symbol."
      ]
    },
    {
      "cell_type": "markdown",
      "metadata": {
        "id": "o5KKjRQRn3qg"
      },
      "source": [
        "* Let's also look at some examples of preprocessed training examples. \n",
        "* Feel free to play with `index` in the cell below to navigate the dataset and see how source/target dates are preprocessed. "
      ]
    },
    {
      "cell_type": "code",
      "metadata": {
        "collapsed": true,
        "id": "NZTe3UVDn3qh"
      },
      "source": [
        "index = 0\n",
        "print(\"Source date:\", dataset[index][0])\n",
        "print(\"Target date:\", dataset[index][1])\n",
        "print()\n",
        "print(\"Source after preprocessing (indices):\", X[index])\n",
        "print(\"Target after preprocessing (indices):\", Y[index])\n",
        "print()\n",
        "print(\"Source after preprocessing (one-hot):\", Xoh[index])\n",
        "print(\"Target after preprocessing (one-hot):\", Yoh[index])"
      ],
      "execution_count": null,
      "outputs": []
    },
    {
      "cell_type": "markdown",
      "metadata": {
        "id": "unqYI9Qqn3qi"
      },
      "source": [
        "## 2 - Neural machine translation with attention\n",
        "\n",
        "* If you had to translate a book's paragraph from French to English, you would not read the whole paragraph, then close the book and translate. \n",
        "* Even during the translation process, you would read/re-read and focus on the parts of the French paragraph corresponding to the parts of the English you are writing down. \n",
        "* The attention mechanism tells a Neural Machine Translation model where it should pay attention to at any step. \n",
        "\n",
        "\n",
        "### 2.1 - Attention mechanism\n",
        "\n",
        "In this part, you will implement the attention mechanism presented in the lecture videos. \n",
        "* Here is a figure to remind you how the model works. \n",
        "    * The diagram on the left shows the attention model. \n",
        "    * The diagram on the right shows what one \"attention\" step does to calculate the attention variables $\\alpha^{\\langle t, t' \\rangle}$.\n",
        "    * The attention variables $\\alpha^{\\langle t, t' \\rangle}$ are used to compute the context variable $context^{\\langle t \\rangle}$ for each timestep in the output ($t=1, \\ldots, T_y$). \n",
        "\n",
        "<table>\n",
        "<td> \n",
        "<img src=\"images/attn_model.png\" style=\"width:500;height:500px;\"> <br>\n",
        "</td> \n",
        "<td> \n",
        "<img src=\"images/attn_mechanism.png\" style=\"width:500;height:500px;\"> <br>\n",
        "</td> \n",
        "</table>\n",
        "<caption><center> **Figure 1**: Neural machine translation with attention</center></caption>\n"
      ]
    },
    {
      "cell_type": "markdown",
      "metadata": {
        "id": "zAN59b_zn3qj"
      },
      "source": [
        "Here are some properties of the model that you may notice: \n",
        "\n",
        "#### Pre-attention and Post-attention LSTMs on both sides of the attention mechanism\n",
        "- There are two separate LSTMs in this model (see diagram on the left): pre-attention and post-attention LSTMs.\n",
        "- *Pre-attention* Bi-LSTM is the one at the bottom of the picture is a Bi-directional LSTM and comes *before* the attention mechanism.\n",
        "    - The attention mechanism is shown in the middle of the left-hand diagram.\n",
        "    - The pre-attention Bi-LSTM goes through $T_x$ time steps\n",
        "- *Post-attention* LSTM: at the top of the diagram comes *after* the attention mechanism. \n",
        "    - The post-attention LSTM goes through $T_y$ time steps. \n",
        "\n",
        "- The post-attention LSTM passes the hidden state $s^{\\langle t \\rangle}$ and cell state $c^{\\langle t \\rangle}$ from one time step to the next. "
      ]
    },
    {
      "cell_type": "markdown",
      "metadata": {
        "id": "i_Jdo6Lpn3qj"
      },
      "source": [
        "#### An LSTM has both a hidden state and cell state\n",
        "* In the lecture videos, we were using only a basic RNN for the post-attention sequence model\n",
        "    * This means that the state captured by the RNN was outputting only the hidden state $s^{\\langle t\\rangle}$. \n",
        "* In this assignment, we are using an LSTM instead of a basic RNN.\n",
        "    * So the LSTM has both the hidden state $s^{\\langle t\\rangle}$ and the cell state $c^{\\langle t\\rangle}$. "
      ]
    },
    {
      "cell_type": "markdown",
      "metadata": {
        "id": "-I9sN6wTn3qk"
      },
      "source": [
        "#### Each time step does not use predictions from the previous time step\n",
        "* Unlike previous text generation examples earlier in the course, in this model, the post-attention LSTM at time $t$ does not take the previous time step's prediction $y^{\\langle t-1 \\rangle}$ as input.\n",
        "* The post-attention LSTM at time 't' only takes the hidden state $s^{\\langle t\\rangle}$ and cell state $c^{\\langle t\\rangle}$ as input. \n",
        "* We have designed the model this way because unlike language generation (where adjacent characters are highly correlated) there isn't as strong a dependency between the previous character and the next character in a YYYY-MM-DD date."
      ]
    },
    {
      "cell_type": "markdown",
      "metadata": {
        "id": "oMrES3gGn3qk"
      },
      "source": [
        "#### Concatenation of hidden states from the forward and backward pre-attention LSTMs\n",
        "- $\\overrightarrow{a}^{\\langle t \\rangle}$: hidden state of the forward-direction, pre-attention LSTM.\n",
        "- $\\overleftarrow{a}^{\\langle t \\rangle}$: hidden state of the backward-direction, pre-attention LSTM.\n",
        "- $a^{\\langle t \\rangle} = [\\overrightarrow{a}^{\\langle t \\rangle}, \\overleftarrow{a}^{\\langle t \\rangle}]$: the concatenation of the activations of both the forward-direction $\\overrightarrow{a}^{\\langle t \\rangle}$ and backward-directions $\\overleftarrow{a}^{\\langle t \\rangle}$ of the pre-attention Bi-LSTM. "
      ]
    },
    {
      "cell_type": "markdown",
      "metadata": {
        "id": "vsyT20t9n3qk"
      },
      "source": [
        "#### Computing \"energies\" $e^{\\langle t, t' \\rangle}$ as a function of $s^{\\langle t-1 \\rangle}$ and $a^{\\langle t' \\rangle}$\n",
        "- Recall in the lesson videos \"Attention Model\", at time 6:45 to 8:16, the definition of \"e\" as a function of $s^{\\langle t-1 \\rangle}$ and $a^{\\langle t \\rangle}$.\n",
        "    - \"e\" is called the \"energies\" variable.\n",
        "    - $s^{\\langle t-1 \\rangle}$ is the hidden state of the post-attention LSTM\n",
        "    - $a^{\\langle t' \\rangle}$ is the hidden state of the pre-attention LSTM.\n",
        "    - $s^{\\langle t-1 \\rangle}$ and $a^{\\langle t \\rangle}$ are fed into a simple neural network, which learns the function to output $e^{\\langle t, t' \\rangle}$.\n",
        "    - $e^{\\langle t, t' \\rangle}$ is then used when computing the attention $a^{\\langle t, t' \\rangle}$ that $y^{\\langle t \\rangle}$ should pay to $a^{\\langle t' \\rangle}$."
      ]
    },
    {
      "cell_type": "markdown",
      "metadata": {
        "id": "x8RyOzr0n3ql"
      },
      "source": [
        "- The diagram on the right of figure 1 uses a `RepeatVector` node to copy $s^{\\langle t-1 \\rangle}$'s value $T_x$ times.\n",
        "- Then it uses `Concatenation` to concatenate $s^{\\langle t-1 \\rangle}$ and $a^{\\langle t \\rangle}$.\n",
        "- The concatenation of $s^{\\langle t-1 \\rangle}$ and $a^{\\langle t \\rangle}$ is fed into a \"Dense\" layer, which computes $e^{\\langle t, t' \\rangle}$. \n",
        "- $e^{\\langle t, t' \\rangle}$ is then passed through a softmax to compute $\\alpha^{\\langle t, t' \\rangle}$.\n",
        "- Note that the diagram doesn't explicitly show variable $e^{\\langle t, t' \\rangle}$, but $e^{\\langle t, t' \\rangle}$ is above the Dense layer and below the Softmax layer in the diagram in the right half of figure 1.\n",
        "- We'll explain how to use `RepeatVector` and `Concatenation` in Keras below. "
      ]
    },
    {
      "cell_type": "markdown",
      "metadata": {
        "id": "pX_zEW2an3ql"
      },
      "source": [
        "### Implementation Details\n",
        "   \n",
        "Let's implement this neural translator. You will start by implementing two functions: `one_step_attention()` and `model()`.\n",
        "\n",
        "#### one_step_attention\n",
        "* The inputs to the one_step_attention at time step $t$ are:\n",
        "    - $[a^{<1>},a^{<2>}, ..., a^{<T_x>}]$: all hidden states of the pre-attention Bi-LSTM.\n",
        "    - $s^{<t-1>}$: the previous hidden state of the post-attention LSTM \n",
        "* one_step_attention computes:\n",
        "    - $[\\alpha^{<t,1>},\\alpha^{<t,2>}, ..., \\alpha^{<t,T_x>}]$: the attention weights\n",
        "    - $context^{ \\langle t \\rangle }$: the context vector:\n",
        "    \n",
        "$$context^{<t>} = \\sum_{t' = 1}^{T_x} \\alpha^{<t,t'>}a^{<t'>}\\tag{1}$$ \n",
        "\n",
        "##### Clarifying 'context' and 'c'\n",
        "- In the lecture videos, the context was denoted $c^{\\langle t \\rangle}$\n",
        "- In the assignment, we are calling the context $context^{\\langle t \\rangle}$.\n",
        "    - This is to avoid confusion with the post-attention LSTM's internal memory cell variable, which is also denoted $c^{\\langle t \\rangle}$."
      ]
    },
    {
      "cell_type": "markdown",
      "metadata": {
        "id": "-KWnZ1Pmn3qm"
      },
      "source": [
        "#### Implement `one_step_attention`\n",
        "\n",
        "**Exercise**: Implement `one_step_attention()`. \n",
        "\n",
        "* The function `model()` will call the layers in `one_step_attention()` $T_y$ using a for-loop.\n",
        "* It is important that all $T_y$ copies have the same weights. \n",
        "    * It should not reinitialize the weights every time. \n",
        "    * In other words, all $T_y$ steps should have shared weights. \n",
        "* Here's how you can implement layers with shareable weights in Keras:\n",
        "    1. Define the layer objects in a variable scope that is outside of the `one_step_attention` function.  For example, defining the objects as global variables would work.\n",
        "        - Note that defining these variables inside the scope of the function `model` would technically work, since `model` will then call the `one_step_attention` function.  For the purposes of making grading and troubleshooting easier, we are defining these as global variables.  Note that the automatic grader will expect these to be global variables as well.\n",
        "    2. Call these objects when propagating the input.\n",
        "* We have defined the layers you need as global variables. \n",
        "    * Please run the following cells to create them. \n",
        "    * Please note that the automatic grader expects these global variables with the given variable names.  For grading purposes, please do not rename the global variables.\n",
        "* Please check the Keras documentation to learn more about these layers.  The layers are functions.  Below are examples of how to call these functions.\n",
        "    * [RepeatVector()](https://keras.io/layers/core/#repeatvector)\n",
        "```Python\n",
        "var_repeated = repeat_layer(var1)\n",
        "```\n",
        "    * [Concatenate()](https://keras.io/layers/merge/#concatenate)   \n",
        "```Python\n",
        "concatenated_vars = concatenate_layer([var1,var2,var3])\n",
        "```\n",
        "    * [Dense()](https://keras.io/layers/core/#dense)  \n",
        "```Python\n",
        "var_out = dense_layer(var_in)\n",
        "```\n",
        "    * [Activation()](https://keras.io/layers/core/#activation)  \n",
        "```Python\n",
        "activation = activation_layer(var_in)  \n",
        "```\n",
        "    * [Dot()](https://keras.io/layers/merge/#dot)  \n",
        "```Python\n",
        "dot_product = dot_layer([var1,var2])\n",
        "```"
      ]
    },
    {
      "cell_type": "code",
      "metadata": {
        "collapsed": true,
        "id": "9CWQ3IMZn3qp"
      },
      "source": [
        "# Defined shared layers as global variables\n",
        "repeator = RepeatVector(Tx)\n",
        "concatenator = Concatenate(axis=-1)\n",
        "densor1 = Dense(10, activation = \"tanh\")\n",
        "densor2 = Dense(1, activation = \"relu\")\n",
        "activator = Activation(softmax, name='attention_weights') # We are using a custom softmax(axis = 1) loaded in this notebook\n",
        "dotor = Dot(axes = 1)"
      ],
      "execution_count": null,
      "outputs": []
    },
    {
      "cell_type": "code",
      "metadata": {
        "collapsed": true,
        "id": "Fwyi-MIfn3qq"
      },
      "source": [
        "# GRADED FUNCTION: one_step_attention\n",
        "\n",
        "def one_step_attention(a, s_prev):\n",
        "    \"\"\"\n",
        "    Performs one step of attention: Outputs a context vector computed as a dot product of the attention weights\n",
        "    \"alphas\" and the hidden states \"a\" of the Bi-LSTM.\n",
        "    \n",
        "    Arguments:\n",
        "    a -- hidden state output of the Bi-LSTM, numpy-array of shape (m, Tx, 2*n_a)\n",
        "    s_prev -- previous hidden state of the (post-attention) LSTM, numpy-array of shape (m, n_s)\n",
        "    \n",
        "    Returns:\n",
        "    context -- context vector, input of the next (post-attention) LSTM cell\n",
        "    \"\"\"\n",
        "    \n",
        "    ### START CODE HERE ###\n",
        "    # Use repeator to repeat s_prev to be of shape (m, Tx, n_s) so that you can concatenate it with all hidden states \"a\" (≈ 1 line)\n",
        "    s_prev = repeator(s_prev)\n",
        "    # Use concatenator to concatenate a and s_prev on the last axis (≈ 1 line)\n",
        "    concat = concatenator([a,s_prev])\n",
        "    # Use densor1 to propagate concat through a small fully-connected neural network to compute the \"intermediate energies\" variable e. (≈1 lines)\n",
        "    e = densor1(concat)\n",
        "    # Use densor2 to propagate e through a small fully-connected neural network to compute the \"energies\" variable energies. (≈1 lines)\n",
        "    energies = densor2(e)\n",
        "    # Use \"activator\" on \"energies\" to compute the attention weights \"alphas\" (≈ 1 line)\n",
        "    alphas = activator(energies)\n",
        "    # Use dotor together with \"alphas\" and \"a\" to compute the context vector to be given to the next (post-attention) LSTM-cell (≈ 1 line)\n",
        "    context = dotor([alphas,a])\n",
        "    ### END CODE HERE ###\n",
        "    \n",
        "    return context"
      ],
      "execution_count": 13,
      "outputs": []
    },
    {
      "cell_type": "markdown",
      "metadata": {
        "id": "d0hA0nfmn3qq"
      },
      "source": [
        "You will be able to check the expected output of `one_step_attention()` after you've coded the `model()` function."
      ]
    },
    {
      "cell_type": "markdown",
      "metadata": {
        "id": "3_6dcds-n3qq"
      },
      "source": [
        "#### model\n",
        "* `model` first runs the input through a Bi-LSTM to get $[a^{<1>},a^{<2>}, ..., a^{<T_x>}]$. \n",
        "* Then, `model` calls `one_step_attention()` $T_y$ times using a `for` loop.  At each iteration of this loop:\n",
        "    - It gives the computed context vector $context^{<t>}$ to the post-attention LSTM.\n",
        "    - It runs the output of the post-attention LSTM through a dense layer with softmax activation.\n",
        "    - The softmax generates a prediction $\\hat{y}^{<t>}$. "
      ]
    },
    {
      "cell_type": "markdown",
      "metadata": {
        "id": "lpxwil9Kn3qr"
      },
      "source": [
        "**Exercise**: Implement `model()` as explained in figure 1 and the text above. Again, we have defined global layers that will share weights to be used in `model()`."
      ]
    },
    {
      "cell_type": "code",
      "metadata": {
        "collapsed": true,
        "id": "nkMihy0fn3qr"
      },
      "source": [
        "n_a = 32 # number of units for the pre-attention, bi-directional LSTM's hidden state 'a'\n",
        "n_s = 64 # number of units for the post-attention LSTM's hidden state \"s\"\n",
        "\n",
        "# Please note, this is the post attention LSTM cell.  \n",
        "# For the purposes of passing the automatic grader\n",
        "# please do not modify this global variable.  This will be corrected once the automatic grader is also updated.\n",
        "post_activation_LSTM_cell = LSTM(n_s, return_state = True) # post-attention LSTM \n",
        "output_layer = Dense(len(machine_vocab), activation=softmax)"
      ],
      "execution_count": null,
      "outputs": []
    },
    {
      "cell_type": "markdown",
      "metadata": {
        "id": "cPZmq8a4n3qr"
      },
      "source": [
        "Now you can use these layers $T_y$ times in a `for` loop to generate the outputs, and their parameters will not be reinitialized. You will have to carry out the following steps: \n",
        "\n",
        "1. Propagate the input `X` into a bi-directional LSTM.\n",
        "    * [Bidirectional](https://keras.io/layers/wrappers/#bidirectional) \n",
        "    * [LSTM](https://keras.io/layers/recurrent/#lstm)\n",
        "    * Remember that we want the LSTM to return a full sequence instead of just the last hidden state.  \n",
        "    \n",
        "Sample code:\n",
        "\n",
        "```Python\n",
        "sequence_of_hidden_states = Bidirectional(LSTM(units=..., return_sequences=...))(the_input_X)\n",
        "```\n",
        "    \n",
        "2. Iterate for $t = 0, \\cdots, T_y-1$: \n",
        "    1. Call `one_step_attention()`, passing in the sequence of hidden states $[a^{\\langle 1 \\rangle},a^{\\langle 2 \\rangle}, ..., a^{ \\langle T_x \\rangle}]$ from the pre-attention bi-directional LSTM, and the previous hidden state $s^{<t-1>}$ from the post-attention LSTM to calculate the context vector $context^{<t>}$.\n",
        "    2. Give $context^{<t>}$ to the post-attention LSTM cell. \n",
        "        - Remember to pass in the previous hidden-state $s^{\\langle t-1\\rangle}$ and cell-states $c^{\\langle t-1\\rangle}$ of this LSTM \n",
        "        * This outputs the new hidden state $s^{<t>}$ and the new cell state $c^{<t>}$.  \n",
        "\n",
        "        Sample code:\n",
        "        ```Python\n",
        "        next_hidden_state, _ , next_cell_state = \n",
        "            post_activation_LSTM_cell(inputs=..., initial_state=[prev_hidden_state, prev_cell_state])\n",
        "        ```   \n",
        "        Please note that the layer is actually the \"post attention LSTM cell\".  For the purposes of passing the automatic grader, please do not modify the naming of this global variable.  This will be fixed when we deploy updates to the automatic grader.\n",
        "    3. Apply a dense, softmax layer to $s^{<t>}$, get the output.  \n",
        "        Sample code:\n",
        "        ```Python\n",
        "        output = output_layer(inputs=...)\n",
        "        ```\n",
        "    4. Save the output by adding it to the list of outputs.\n",
        "\n",
        "3. Create your Keras model instance.\n",
        "    * It should have three inputs:\n",
        "        * `X`, the one-hot encoded inputs to the model, of shape ($T_{x}, humanVocabSize)$\n",
        "        * $s^{\\langle 0 \\rangle}$, the initial hidden state of the post-attention LSTM\n",
        "        * $c^{\\langle 0 \\rangle}$), the initial cell state of the post-attention LSTM\n",
        "    * The output is the list of outputs.  \n",
        "    Sample code\n",
        "    ```Python\n",
        "    model = Model(inputs=[...,...,...], outputs=...)\n",
        "    ```"
      ]
    },
    {
      "cell_type": "code",
      "metadata": {
        "collapsed": true,
        "id": "Yf3pI91Fn3qs"
      },
      "source": [
        "# GRADED FUNCTION: model\n",
        "\n",
        "def model(Tx, Ty, n_a, n_s, human_vocab_size, machine_vocab_size):\n",
        "    \"\"\"\n",
        "    Arguments:\n",
        "    Tx -- length of the input sequence\n",
        "    Ty -- length of the output sequence\n",
        "    n_a -- hidden state size of the Bi-LSTM\n",
        "    n_s -- hidden state size of the post-attention LSTM\n",
        "    human_vocab_size -- size of the python dictionary \"human_vocab\"\n",
        "    machine_vocab_size -- size of the python dictionary \"machine_vocab\"\n",
        "\n",
        "    Returns:\n",
        "    model -- Keras model instance\n",
        "    \"\"\"\n",
        "    \n",
        "    # Define the inputs of your model with a shape (Tx,)\n",
        "    # Define s0 (initial hidden state) and c0 (initial cell state)\n",
        "    # for the decoder LSTM with shape (n_s,)\n",
        "    X = Input(shape=(Tx, human_vocab_size))\n",
        "    s0 = Input(shape=(n_s,), name='s0')\n",
        "    c0 = Input(shape=(n_s,), name='c0')\n",
        "    s = s0\n",
        "    c = c0\n",
        "    \n",
        "    # Initialize empty list of outputs\n",
        "    outputs = []\n",
        "    \n",
        "    ### START CODE HERE ###\n",
        "    \n",
        "    # Step 1: Define your pre-attention Bi-LSTM. Remember to use return_sequences=True. (≈ 1 line)\n",
        "    a = Bidirectional(LSTM(n_a, return_sequences=True))(X)\n",
        "    \n",
        "    # Step 2: Iterate for Ty steps\n",
        "    for t in range(Ty):\n",
        "    \n",
        "        # Step 2.A: Perform one step of the attention mechanism to get back the context vector at step t (≈ 1 line)\n",
        "        context = one_step_attention(a, s)\n",
        "        \n",
        "        # Step 2.B: Apply the post-attention LSTM cell to the \"context\" vector.\n",
        "        # Don't forget to pass: initial_state = [hidden state, cell state] (≈ 1 line)\n",
        "        s, _, c = post_activation_LSTM_cell(context,initial_state=[s, c])\n",
        "        \n",
        "        # Step 2.C: Apply Dense layer to the hidden state output of the post-attention LSTM (≈ 1 line)\n",
        "        out = output_layer(s)\n",
        "        \n",
        "        # Step 2.D: Append \"out\" to the \"outputs\" list (≈ 1 line)\n",
        "        outputs.append(out)\n",
        "    \n",
        "    # Step 3: Create model instance taking three inputs and returning the list of outputs. (≈ 1 line)\n",
        "    model = Model(inputs=[X, s0, c0], outputs=outputs)\n",
        "    \n",
        "    ### END CODE HERE ###\n",
        "    \n",
        "    return model"
      ],
      "execution_count": 14,
      "outputs": []
    },
    {
      "cell_type": "markdown",
      "metadata": {
        "id": "-E_KTjB7n3qu"
      },
      "source": [
        "Run the following cell to create your model."
      ]
    },
    {
      "cell_type": "code",
      "metadata": {
        "collapsed": true,
        "id": "cyiwjm7qn3qu"
      },
      "source": [
        "model = model(Tx, Ty, n_a, n_s, len(human_vocab), len(machine_vocab))"
      ],
      "execution_count": null,
      "outputs": []
    },
    {
      "cell_type": "markdown",
      "metadata": {
        "id": "E2xfvslen3qv"
      },
      "source": [
        "#### Troubleshooting Note\n",
        "* If you are getting repeated errors after an initially incorrect implementation of \"model\", but believe that you have corrected the error, you may still see error messages when building your model.  \n",
        "* A solution is to save and restart your kernel (or shutdown then restart your notebook), and re-run the cells."
      ]
    },
    {
      "cell_type": "markdown",
      "metadata": {
        "id": "6o5IItBhn3qv"
      },
      "source": [
        "Let's get a summary of the model to check if it matches the expected output."
      ]
    },
    {
      "cell_type": "code",
      "metadata": {
        "collapsed": true,
        "id": "1lZwgcI8n3qv"
      },
      "source": [
        "model.summary()"
      ],
      "execution_count": null,
      "outputs": []
    },
    {
      "cell_type": "markdown",
      "metadata": {
        "id": "ahmzJwRNn3qw"
      },
      "source": [
        "**Expected Output**:\n",
        "\n",
        "Here is the summary you should see\n",
        "<table>\n",
        "    <tr>\n",
        "        <td>\n",
        "            **Total params:**\n",
        "        </td>\n",
        "        <td>\n",
        "         52,960\n",
        "        </td>\n",
        "    </tr>\n",
        "        <tr>\n",
        "        <td>\n",
        "            **Trainable params:**\n",
        "        </td>\n",
        "        <td>\n",
        "         52,960\n",
        "        </td>\n",
        "    </tr>\n",
        "            <tr>\n",
        "        <td>\n",
        "            **Non-trainable params:**\n",
        "        </td>\n",
        "        <td>\n",
        "         0\n",
        "        </td>\n",
        "    </tr>\n",
        "                    <tr>\n",
        "        <td>\n",
        "            **bidirectional_1's output shape **\n",
        "        </td>\n",
        "        <td>\n",
        "         (None, 30, 64)  \n",
        "        </td>\n",
        "    </tr>\n",
        "    <tr>\n",
        "        <td>\n",
        "            **repeat_vector_1's output shape **\n",
        "        </td>\n",
        "        <td>\n",
        "         (None, 30, 64) \n",
        "        </td>\n",
        "    </tr>\n",
        "                <tr>\n",
        "        <td>\n",
        "            **concatenate_1's output shape **\n",
        "        </td>\n",
        "        <td>\n",
        "         (None, 30, 128) \n",
        "        </td>\n",
        "    </tr>\n",
        "            <tr>\n",
        "        <td>\n",
        "            **attention_weights's output shape **\n",
        "        </td>\n",
        "        <td>\n",
        "         (None, 30, 1)  \n",
        "        </td>\n",
        "    </tr>\n",
        "        <tr>\n",
        "        <td>\n",
        "            **dot_1's output shape **\n",
        "        </td>\n",
        "        <td>\n",
        "         (None, 1, 64)\n",
        "        </td>\n",
        "    </tr>\n",
        "           <tr>\n",
        "        <td>\n",
        "            **dense_3's output shape **\n",
        "        </td>\n",
        "        <td>\n",
        "         (None, 11) \n",
        "        </td>\n",
        "    </tr>\n",
        "</table>\n"
      ]
    },
    {
      "cell_type": "markdown",
      "metadata": {
        "id": "-IV2V6_Kn3qw"
      },
      "source": [
        "#### Compile the model\n",
        "* After creating your model in Keras, you need to compile it and define the loss function, optimizer and metrics you want to use. \n",
        "    * Loss function: 'categorical_crossentropy'.\n",
        "    * Optimizer: [Adam](https://keras.io/optimizers/#adam) [optimizer](https://keras.io/optimizers/#usage-of-optimizers)\n",
        "        - learning rate = 0.005 \n",
        "        - $\\beta_1 = 0.9$\n",
        "        - $\\beta_2 = 0.999$\n",
        "        - decay = 0.01  \n",
        "    * metric: 'accuracy'\n",
        "    \n",
        "Sample code\n",
        "```Python\n",
        "optimizer = Adam(lr=..., beta_1=..., beta_2=..., decay=...)\n",
        "model.compile(optimizer=..., loss=..., metrics=[...])\n",
        "```"
      ]
    },
    {
      "cell_type": "code",
      "metadata": {
        "collapsed": true,
        "id": "0JgwtjJln3qw"
      },
      "source": [
        "### START CODE HERE ### (≈2 lines)\n",
        "opt = Adam(lr=0.005, beta_1=0.9, beta_2=0.999, decay=0.01)\n",
        "model.compile(optimizer=opt, loss='categorical_crossentropy', metrics=['accuracy'])\n",
        "### END CODE HERE ###"
      ],
      "execution_count": null,
      "outputs": []
    },
    {
      "cell_type": "markdown",
      "metadata": {
        "id": "xzjiCeY6n3qx"
      },
      "source": [
        "#### Define inputs and outputs, and fit the model\n",
        "The last step is to define all your inputs and outputs to fit the model:\n",
        "- You have input X of shape $(m = 10000, T_x = 30)$ containing the training examples.\n",
        "- You need to create `s0` and `c0` to initialize your `post_attention_LSTM_cell` with zeros.\n",
        "- Given the `model()` you coded, you need the \"outputs\" to be a list of 10 elements of shape (m, T_y). \n",
        "    - The list `outputs[i][0], ..., outputs[i][Ty]` represents the true labels (characters) corresponding to the $i^{th}$ training example (`X[i]`). \n",
        "    - `outputs[i][j]` is the true label of the $j^{th}$ character in the $i^{th}$ training example."
      ]
    },
    {
      "cell_type": "code",
      "metadata": {
        "collapsed": true,
        "id": "jt_ACdzMn3qx"
      },
      "source": [
        "s0 = np.zeros((m, n_s))\n",
        "c0 = np.zeros((m, n_s))\n",
        "outputs = list(Yoh.swapaxes(0,1))"
      ],
      "execution_count": null,
      "outputs": []
    },
    {
      "cell_type": "markdown",
      "metadata": {
        "id": "C_1F1Eosn3qx"
      },
      "source": [
        "Let's now fit the model and run it for one epoch."
      ]
    },
    {
      "cell_type": "code",
      "metadata": {
        "collapsed": true,
        "id": "BOSiEdTQn3qx"
      },
      "source": [
        "model.fit([Xoh, s0, c0], outputs, epochs=1, batch_size=100)"
      ],
      "execution_count": null,
      "outputs": []
    },
    {
      "cell_type": "markdown",
      "metadata": {
        "id": "_YJ78mrOn3qy"
      },
      "source": [
        "While training you can see the loss as well as the accuracy on each of the 10 positions of the output. The table below gives you an example of what the accuracies could be if the batch had 2 examples: \n",
        "\n",
        "<img src=\"images/table.png\" style=\"width:700;height:200px;\"> <br>\n",
        "<caption><center>Thus, `dense_2_acc_8: 0.89` means that you are predicting the 7th character of the output correctly 89% of the time in the current batch of data. </center></caption>\n",
        "\n",
        "\n",
        "We have run this model for longer, and saved the weights. Run the next cell to load our weights. (By training a model for several minutes, you should be able to obtain a model of similar accuracy, but loading our model will save you time.) "
      ]
    },
    {
      "cell_type": "code",
      "metadata": {
        "colab": {
          "base_uri": "https://localhost:8080/"
        },
        "id": "6cxWKnrxpn-j",
        "outputId": "cbc74732-9745-4395-ecb4-748a1fd80beb"
      },
      "source": [
        "from google.colab import drive\n",
        "drive.mount('/content/drive')"
      ],
      "execution_count": 18,
      "outputs": [
        {
          "output_type": "stream",
          "text": [
            "Mounted at /content/drive\n"
          ],
          "name": "stdout"
        }
      ]
    },
    {
      "cell_type": "code",
      "metadata": {
        "collapsed": true,
        "id": "Ke4PP9Htn3qy"
      },
      "source": [
        "model.load_weights('/content/drive/MyDrive/Colab Notebooks/Deep learning/Sequence models/Assignment 3.1/Copy of model.h5')"
      ],
      "execution_count": null,
      "outputs": []
    },
    {
      "cell_type": "markdown",
      "metadata": {
        "id": "49jMEBcCn3qy"
      },
      "source": [
        "You can now see the results on new examples."
      ]
    },
    {
      "cell_type": "code",
      "metadata": {
        "collapsed": true,
        "id": "yz0eOKAVn3qy"
      },
      "source": [
        "EXAMPLES = ['3 May 1979', '5 April 09', '21th of August 2016', 'Tue 10 Jul 2007', 'Saturday May 9 2018', 'March 3 2001', 'March 3rd 2001', '1 March 2001']\n",
        "for example in EXAMPLES:\n",
        "    \n",
        "    source = string_to_int(example, Tx, human_vocab)\n",
        "    source = np.array(list(map(lambda x: to_categorical(x, num_classes=len(human_vocab)), source))).swapaxes(0,1)\n",
        "    prediction = model.predict([source, s0, c0])\n",
        "    prediction = np.argmax(prediction, axis = -1)\n",
        "    output = [inv_machine_vocab[int(i)] for i in prediction]\n",
        "    \n",
        "    print(\"source:\", example)\n",
        "    print(\"output:\", ''.join(output),\"\\n\")"
      ],
      "execution_count": null,
      "outputs": []
    },
    {
      "cell_type": "markdown",
      "metadata": {
        "id": "9dMxBNHwn3qy"
      },
      "source": [
        "You can also change these examples to test with your own examples. The next part will give you a better sense of what the attention mechanism is doing--i.e., what part of the input the network is paying attention to when generating a particular output character. "
      ]
    },
    {
      "cell_type": "markdown",
      "metadata": {
        "id": "jerKb-s1n3qz"
      },
      "source": [
        "## 3 - Visualizing Attention (Optional / Ungraded)\n",
        "\n",
        "Since the problem has a fixed output length of 10, it is also possible to carry out this task using 10 different softmax units to generate the 10 characters of the output. But one advantage of the attention model is that each part of the output (such as the month) knows it needs to depend only on a small part of the input (the characters in the input giving the month). We can  visualize what each part of the output is looking at which part of the input.\n",
        "\n",
        "Consider the task of translating \"Saturday 9 May 2018\" to \"2018-05-09\". If we visualize the computed $\\alpha^{\\langle t, t' \\rangle}$ we get this: \n",
        "\n",
        "<img src=\"images/date_attention.png\" style=\"width:600;height:300px;\"> <br>\n",
        "<caption><center> **Figure 8**: Full Attention Map</center></caption>\n",
        "\n",
        "Notice how the output ignores the \"Saturday\" portion of the input. None of the output timesteps are paying much attention to that portion of the input. We also see that 9 has been translated as 09 and May has been correctly translated into 05, with the output paying attention to the parts of the input it needs to to make the translation. The year mostly requires it to pay attention to the input's \"18\" in order to generate \"2018.\" "
      ]
    },
    {
      "cell_type": "markdown",
      "metadata": {
        "id": "YSsi7FEwn3qz"
      },
      "source": [
        "### 3.1 - Getting the attention weights from the network\n",
        "\n",
        "Lets now visualize the attention values in your network. We'll propagate an example through the network, then visualize the values of $\\alpha^{\\langle t, t' \\rangle}$. \n",
        "\n",
        "To figure out where the attention values are located, let's start by printing a summary of the model ."
      ]
    },
    {
      "cell_type": "code",
      "metadata": {
        "collapsed": true,
        "id": "-3jKFaBnn3qz"
      },
      "source": [
        "model.summary()"
      ],
      "execution_count": null,
      "outputs": []
    },
    {
      "cell_type": "markdown",
      "metadata": {
        "id": "7J7jrhj4n3qz"
      },
      "source": [
        "Navigate through the output of `model.summary()` above. You can see that the layer named `attention_weights` outputs the `alphas` of shape (m, 30, 1) before `dot_2` computes the context vector for every time step $t = 0, \\ldots, T_y-1$. Let's get the attention weights from this layer.\n",
        "\n",
        "The function `attention_map()` pulls out the attention values from your model and plots them."
      ]
    },
    {
      "cell_type": "code",
      "metadata": {
        "collapsed": true,
        "scrolled": false,
        "id": "DVdJtZIMn3qz",
        "outputId": "a820339a-04ba-477c-8c95-bff5ed175d64"
      },
      "source": [
        "attention_map = plot_attention_map(model, human_vocab, inv_machine_vocab, \"Tuesday 09 Oct 1993\", num = 7, n_s = 64);"
      ],
      "execution_count": null,
      "outputs": [
        {
          "ename": "NameError",
          "evalue": "name 'plot_attention_map' is not defined",
          "output_type": "error",
          "traceback": [
            "\u001b[0;31m---------------------------------------------------------------------------\u001b[0m",
            "\u001b[0;31mNameError\u001b[0m                                 Traceback (most recent call last)",
            "\u001b[0;32m<ipython-input-1-205e12c8af30>\u001b[0m in \u001b[0;36m<module>\u001b[0;34m\u001b[0m\n\u001b[0;32m----> 1\u001b[0;31m \u001b[0mattention_map\u001b[0m \u001b[0;34m=\u001b[0m \u001b[0mplot_attention_map\u001b[0m\u001b[0;34m(\u001b[0m\u001b[0mmodel\u001b[0m\u001b[0;34m,\u001b[0m \u001b[0mhuman_vocab\u001b[0m\u001b[0;34m,\u001b[0m \u001b[0minv_machine_vocab\u001b[0m\u001b[0;34m,\u001b[0m \u001b[0;34m\"Tuesday 09 Oct 1993\"\u001b[0m\u001b[0;34m,\u001b[0m \u001b[0mnum\u001b[0m \u001b[0;34m=\u001b[0m \u001b[0;36m7\u001b[0m\u001b[0;34m,\u001b[0m \u001b[0mn_s\u001b[0m \u001b[0;34m=\u001b[0m \u001b[0;36m64\u001b[0m\u001b[0;34m)\u001b[0m\u001b[0;34m;\u001b[0m\u001b[0;34m\u001b[0m\u001b[0;34m\u001b[0m\u001b[0m\n\u001b[0m",
            "\u001b[0;31mNameError\u001b[0m: name 'plot_attention_map' is not defined"
          ]
        }
      ]
    },
    {
      "cell_type": "markdown",
      "metadata": {
        "id": "zxxVX6tGn3q1"
      },
      "source": [
        "On the generated plot you can observe the values of the attention weights for each character of the predicted output. Examine this plot and check that the places where the network is paying attention makes sense to you.\n",
        "\n",
        "In the date translation application, you will observe that most of the time attention helps predict the year, and doesn't have much impact on predicting the day or month."
      ]
    },
    {
      "cell_type": "markdown",
      "metadata": {
        "id": "XyeFChMNn3q1"
      },
      "source": [
        "### Congratulations!\n",
        "\n",
        "\n",
        "You have come to the end of this assignment \n",
        "\n",
        "## Here's what you should remember\n",
        "\n",
        "- Machine translation models can be used to map from one sequence to another. They are useful not just for translating human languages (like French->English) but also for tasks like date format translation. \n",
        "- An attention mechanism allows a network to focus on the most relevant parts of the input when producing a specific part of the output. \n",
        "- A network using an attention mechanism can translate from inputs of length $T_x$ to outputs of length $T_y$, where $T_x$ and $T_y$ can be different. \n",
        "- You can visualize attention weights $\\alpha^{\\langle t,t' \\rangle}$ to see what the network is paying attention to while generating each output."
      ]
    },
    {
      "cell_type": "markdown",
      "metadata": {
        "id": "27wlaer4n3q1"
      },
      "source": [
        "Congratulations on finishing this assignment! You are now able to implement an attention model and use it to learn complex mappings from one sequence to another. "
      ]
    }
  ]
}